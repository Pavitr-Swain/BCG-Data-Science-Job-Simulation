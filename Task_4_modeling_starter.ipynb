{
  "nbformat": 4,
  "nbformat_minor": 0,
  "metadata": {
    "colab": {
      "provenance": [],
      "authorship_tag": "ABX9TyM4tbBgxUIGYqQU0bYbsr0p",
      "include_colab_link": true
    },
    "kernelspec": {
      "name": "python3",
      "display_name": "Python 3"
    },
    "language_info": {
      "name": "python"
    }
  },
  "cells": [
    {
      "cell_type": "markdown",
      "metadata": {
        "id": "view-in-github",
        "colab_type": "text"
      },
      "source": [
        "<a href=\"https://colab.research.google.com/github/Pavitr-Swain/BCG-Data-Science-Job-Simulation/blob/main/Task_4_modeling_starter.ipynb\" target=\"_parent\"><img src=\"https://colab.research.google.com/assets/colab-badge.svg\" alt=\"Open In Colab\"/></a>"
      ]
    },
    {
      "cell_type": "code",
      "execution_count": 1,
      "metadata": {
        "colab": {
          "base_uri": "https://localhost:8080/"
        },
        "id": "HnyqfhZybn2R",
        "outputId": "617fc81b-0158-4b73-ba66-d3b4670a46d9"
      },
      "outputs": [
        {
          "output_type": "stream",
          "name": "stdout",
          "text": [
            "<class 'pandas.core.frame.DataFrame'>\n",
            "RangeIndex: 14606 entries, 0 to 14605\n",
            "Data columns (total 64 columns):\n",
            " #   Column                                      Non-Null Count  Dtype  \n",
            "---  ------                                      --------------  -----  \n",
            " 0   Unnamed: 0                                  14606 non-null  int64  \n",
            " 1   id                                          14606 non-null  object \n",
            " 2   cons_12m                                    14606 non-null  float64\n",
            " 3   cons_gas_12m                                14606 non-null  float64\n",
            " 4   cons_last_month                             14606 non-null  float64\n",
            " 5   forecast_cons_12m                           14606 non-null  float64\n",
            " 6   forecast_discount_energy                    14606 non-null  float64\n",
            " 7   forecast_meter_rent_12m                     14606 non-null  float64\n",
            " 8   forecast_price_energy_off_peak              14606 non-null  float64\n",
            " 9   forecast_price_energy_peak                  14606 non-null  float64\n",
            " 10  forecast_price_pow_off_peak                 14606 non-null  float64\n",
            " 11  has_gas                                     14606 non-null  int64  \n",
            " 12  imp_cons                                    14606 non-null  float64\n",
            " 13  margin_gross_pow_ele                        14606 non-null  float64\n",
            " 14  margin_net_pow_ele                          14606 non-null  float64\n",
            " 15  nb_prod_act                                 14606 non-null  int64  \n",
            " 16  net_margin                                  14606 non-null  float64\n",
            " 17  pow_max                                     14606 non-null  float64\n",
            " 18  var_year_price_off_peak_var                 14606 non-null  float64\n",
            " 19  var_year_price_peak_var                     14606 non-null  float64\n",
            " 20  var_year_price_mid_peak_var                 14606 non-null  float64\n",
            " 21  var_year_price_off_peak_fix                 14606 non-null  float64\n",
            " 22  var_year_price_peak_fix                     14606 non-null  float64\n",
            " 23  var_year_price_mid_peak_fix                 14606 non-null  float64\n",
            " 24  var_year_price_off_peak                     14606 non-null  float64\n",
            " 25  var_year_price_peak                         14606 non-null  float64\n",
            " 26  var_year_price_mid_peak                     14606 non-null  float64\n",
            " 27  var_6m_price_off_peak_var                   14606 non-null  float64\n",
            " 28  var_6m_price_peak_var                       14606 non-null  float64\n",
            " 29  var_6m_price_mid_peak_var                   14606 non-null  float64\n",
            " 30  var_6m_price_off_peak_fix                   14606 non-null  float64\n",
            " 31  var_6m_price_peak_fix                       14606 non-null  float64\n",
            " 32  var_6m_price_mid_peak_fix                   14606 non-null  float64\n",
            " 33  var_6m_price_off_peak                       14606 non-null  float64\n",
            " 34  var_6m_price_peak                           14606 non-null  float64\n",
            " 35  var_6m_price_mid_peak                       14606 non-null  float64\n",
            " 36  churn                                       14606 non-null  int64  \n",
            " 37  offpeak_diff_dec_january_energy             14606 non-null  float64\n",
            " 38  offpeak_diff_dec_january_power              14606 non-null  float64\n",
            " 39  off_peak_peak_var_mean_diff                 14606 non-null  float64\n",
            " 40  peak_mid_peak_var_mean_diff                 14606 non-null  float64\n",
            " 41  off_peak_mid_peak_var_mean_diff             14606 non-null  float64\n",
            " 42  off_peak_peak_fix_mean_diff                 14606 non-null  float64\n",
            " 43  peak_mid_peak_fix_mean_diff                 14606 non-null  float64\n",
            " 44  off_peak_mid_peak_fix_mean_diff             14606 non-null  float64\n",
            " 45  off_peak_peak_var_max_monthly_diff          14606 non-null  float64\n",
            " 46  peak_mid_peak_var_max_monthly_diff          14606 non-null  float64\n",
            " 47  off_peak_mid_peak_var_max_monthly_diff      14606 non-null  float64\n",
            " 48  off_peak_peak_fix_max_monthly_diff          14606 non-null  float64\n",
            " 49  peak_mid_peak_fix_max_monthly_diff          14606 non-null  float64\n",
            " 50  off_peak_mid_peak_fix_max_monthly_diff      14606 non-null  float64\n",
            " 51  tenure                                      14606 non-null  int64  \n",
            " 52  months_activ                                14606 non-null  int64  \n",
            " 53  months_to_end                               14606 non-null  int64  \n",
            " 54  months_modif_prod                           14606 non-null  int64  \n",
            " 55  months_renewal                              14606 non-null  int64  \n",
            " 56  channel_MISSING                             14606 non-null  int64  \n",
            " 57  channel_ewpakwlliwisiwduibdlfmalxowmwpci    14606 non-null  int64  \n",
            " 58  channel_foosdfpfkusacimwkcsosbicdxkicaua    14606 non-null  int64  \n",
            " 59  channel_lmkebamcaaclubfxadlmueccxoimlema    14606 non-null  int64  \n",
            " 60  channel_usilxuppasemubllopkaafesmlibmsdf    14606 non-null  int64  \n",
            " 61  origin_up_kamkkxfxxuwbdslkwifmmcsiusiuosws  14606 non-null  int64  \n",
            " 62  origin_up_ldkssxwpmemidmecebumciepifcamkci  14606 non-null  int64  \n",
            " 63  origin_up_lxidpiddsbxsbosboudacockeimpuepw  14606 non-null  int64  \n",
            "dtypes: float64(46), int64(17), object(1)\n",
            "memory usage: 7.1+ MB\n"
          ]
        },
        {
          "output_type": "execute_result",
          "data": {
            "text/plain": [
              "(None,\n",
              "    Unnamed: 0                                id  cons_12m  cons_gas_12m  \\\n",
              " 0           0  24011ae4ebbe3035111d65fa7c15bc57  0.000000      4.739944   \n",
              " 1           1  d29c2c54acc38ff3c0614d0a653813dd  3.668479      0.000000   \n",
              " 2           2  764c75f661154dac3a6c254cd082ea7d  2.736397      0.000000   \n",
              " 3           3  bba03439a292a1e166f80264c16191cb  3.200029      0.000000   \n",
              " 4           4  149d57cf92fc41cf94415803a877cb4b  3.646011      0.000000   \n",
              " \n",
              "    cons_last_month  forecast_cons_12m  forecast_discount_energy  \\\n",
              " 0         0.000000           0.000000                       0.0   \n",
              " 1         0.000000           2.280920                       0.0   \n",
              " 2         0.000000           1.689841                       0.0   \n",
              " 3         0.000000           2.382089                       0.0   \n",
              " 4         2.721811           2.650065                       0.0   \n",
              " \n",
              "    forecast_meter_rent_12m  forecast_price_energy_off_peak  \\\n",
              " 0                 0.444045                        0.114481   \n",
              " 1                 1.237292                        0.145711   \n",
              " 2                 1.599009                        0.165794   \n",
              " 3                 1.318689                        0.146694   \n",
              " 4                 2.122969                        0.116900   \n",
              " \n",
              "    forecast_price_energy_peak  ...  months_modif_prod  months_renewal  \\\n",
              " 0                    0.098142  ...                  2               6   \n",
              " 1                    0.000000  ...                 76               4   \n",
              " 2                    0.087899  ...                 68               8   \n",
              " 3                    0.000000  ...                 69               9   \n",
              " 4                    0.100015  ...                 71               9   \n",
              " \n",
              "    channel_MISSING  channel_ewpakwlliwisiwduibdlfmalxowmwpci  \\\n",
              " 0                0                                         0   \n",
              " 1                1                                         0   \n",
              " 2                0                                         0   \n",
              " 3                0                                         0   \n",
              " 4                1                                         0   \n",
              " \n",
              "    channel_foosdfpfkusacimwkcsosbicdxkicaua  \\\n",
              " 0                                         1   \n",
              " 1                                         0   \n",
              " 2                                         1   \n",
              " 3                                         0   \n",
              " 4                                         0   \n",
              " \n",
              "    channel_lmkebamcaaclubfxadlmueccxoimlema  \\\n",
              " 0                                         0   \n",
              " 1                                         0   \n",
              " 2                                         0   \n",
              " 3                                         1   \n",
              " 4                                         0   \n",
              " \n",
              "    channel_usilxuppasemubllopkaafesmlibmsdf  \\\n",
              " 0                                         0   \n",
              " 1                                         0   \n",
              " 2                                         0   \n",
              " 3                                         0   \n",
              " 4                                         0   \n",
              " \n",
              "    origin_up_kamkkxfxxuwbdslkwifmmcsiusiuosws  \\\n",
              " 0                                           0   \n",
              " 1                                           1   \n",
              " 2                                           1   \n",
              " 3                                           1   \n",
              " 4                                           1   \n",
              " \n",
              "    origin_up_ldkssxwpmemidmecebumciepifcamkci  \\\n",
              " 0                                           0   \n",
              " 1                                           0   \n",
              " 2                                           0   \n",
              " 3                                           0   \n",
              " 4                                           0   \n",
              " \n",
              "    origin_up_lxidpiddsbxsbosboudacockeimpuepw  \n",
              " 0                                           1  \n",
              " 1                                           0  \n",
              " 2                                           0  \n",
              " 3                                           0  \n",
              " 4                                           0  \n",
              " \n",
              " [5 rows x 64 columns])"
            ]
          },
          "metadata": {},
          "execution_count": 1
        }
      ],
      "source": [
        "import pandas as pd\n",
        "\n",
        "# Load the dataset\n",
        "file_path = \"/content/data_for_predictions.csv\"\n",
        "df = pd.read_csv(file_path)\n",
        "\n",
        "# Display basic information about the dataset\n",
        "df.info(), df.head()\n"
      ]
    },
    {
      "cell_type": "code",
      "source": [
        "from nbformat import read\n",
        "\n",
        "# Load the Jupyter Notebook\n",
        "notebook_path = \"/content/Task 4 - modeling_starter.ipynb\"\n",
        "with open(notebook_path, \"r\", encoding=\"utf-8\") as f:\n",
        "    notebook = read(f, as_version=4)\n",
        "\n",
        "# Extract and display notebook metadata and first few cells for review\n",
        "notebook.cells[:3]\n"
      ],
      "metadata": {
        "colab": {
          "base_uri": "https://localhost:8080/"
        },
        "id": "42Tl9HeRdBLO",
        "outputId": "691542d1-8e9a-40b0-df20-38fa008cf86b"
      },
      "execution_count": 2,
      "outputs": [
        {
          "output_type": "execute_result",
          "data": {
            "text/plain": [
              "[{'cell_type': 'markdown',\n",
              "  'metadata': {'id': 'c4noH7q4USKQ'},\n",
              "  'source': '# Feature Engineering and Modelling\\n\\n---\\n\\n1. Import packages\\n2. Load data\\n3. Modelling\\n\\n---\\n\\n## 1. Import packages'},\n",
              " {'cell_type': 'code',\n",
              "  'execution_count': None,\n",
              "  'metadata': {'id': 'NwE6osQpUSKS'},\n",
              "  'outputs': [],\n",
              "  'source': 'import warnings\\nwarnings.filterwarnings(\"ignore\", category=FutureWarning)'},\n",
              " {'cell_type': 'code',\n",
              "  'execution_count': None,\n",
              "  'metadata': {'id': 'cm3WmjAZUSKT'},\n",
              "  'outputs': [],\n",
              "  'source': 'import pandas as pd\\nimport numpy as np\\nimport seaborn as sns\\nfrom datetime import datetime\\nimport matplotlib.pyplot as plt\\n\\n# Shows plots in jupyter notebook\\n%matplotlib inline\\n\\n# Set plot style\\nsns.set(color_codes=True)'}]"
            ]
          },
          "metadata": {},
          "execution_count": 2
        }
      ]
    },
    {
      "cell_type": "code",
      "source": [
        "# Extract all cell sources to check for modeling progress\n",
        "notebook_text = \"\\n\\n\".join([cell[\"source\"] for cell in notebook.cells if cell[\"cell_type\"] == \"code\"])\n",
        "\n",
        "# Check if a Random Forest Classifier has been implemented\n",
        "\"RandomForestClassifier\" in notebook_text, \"train_test_split\" in notebook_text, \"accuracy_score\" in notebook_text\n"
      ],
      "metadata": {
        "colab": {
          "base_uri": "https://localhost:8080/"
        },
        "id": "pMmoJ8HtdNOn",
        "outputId": "3988a03f-16d9-483e-b30a-e58ac01af62f"
      },
      "execution_count": 3,
      "outputs": [
        {
          "output_type": "execute_result",
          "data": {
            "text/plain": [
              "(True, True, False)"
            ]
          },
          "metadata": {},
          "execution_count": 3
        }
      ]
    },
    {
      "cell_type": "code",
      "source": [
        "from sklearn.model_selection import train_test_split\n",
        "from sklearn.ensemble import RandomForestClassifier\n",
        "from sklearn.metrics import accuracy_score, precision_score, recall_score, f1_score\n",
        "\n",
        "# Drop unnecessary columns\n",
        "df = df.drop(columns=[\"Unnamed: 0\", \"id\"])\n",
        "\n",
        "# Split data into features and target\n",
        "X = df.drop(columns=[\"churn\"])\n",
        "y = df[\"churn\"]\n",
        "\n",
        "# Split into training and test sets\n",
        "X_train, X_test, y_train, y_test = train_test_split(X, y, test_size=0.2, random_state=42, stratify=y)\n",
        "\n",
        "# Initialize and train the Random Forest model\n",
        "model = RandomForestClassifier(n_estimators=100, random_state=42)\n",
        "model.fit(X_train, y_train)\n",
        "\n",
        "# Make predictions\n",
        "y_pred = model.predict(X_test)\n",
        "\n",
        "# Evaluate model performance\n",
        "accuracy = accuracy_score(y_test, y_pred)\n",
        "precision = precision_score(y_test, y_pred)\n",
        "recall = recall_score(y_test, y_pred)\n",
        "f1 = f1_score(y_test, y_pred)\n",
        "\n",
        "accuracy, precision, recall, f1\n"
      ],
      "metadata": {
        "colab": {
          "base_uri": "https://localhost:8080/"
        },
        "id": "CT1ynUfRdRja",
        "outputId": "10ba7538-9903-4bfd-bc60-7daa992ece03"
      },
      "execution_count": 4,
      "outputs": [
        {
          "output_type": "execute_result",
          "data": {
            "text/plain": [
              "(0.9099931553730322,\n",
              " 0.8888888888888888,\n",
              " 0.08450704225352113,\n",
              " 0.15434083601286175)"
            ]
          },
          "metadata": {},
          "execution_count": 4
        }
      ]
    },
    {
      "cell_type": "code",
      "source": [
        "from nbformat.v4 import new_markdown_cell, new_code_cell\n",
        "\n",
        "# Append markdown explanation and evaluation code cell properly\n",
        "notebook.cells.append(new_markdown_cell(\"## Model Evaluation\\n\\nThe following metrics are used to assess the model's performance:\"))\n",
        "notebook.cells.append(new_code_cell(evaluation_code))\n",
        "\n",
        "# Save the updated notebook\n",
        "output_notebook_path = \"/content/Task 4 - modeling_starter.ipynb\"\n",
        "with open(output_notebook_path, \"w\", encoding=\"utf-8\") as f:\n",
        "    write(notebook, f)\n",
        "\n",
        "output_notebook_path\n"
      ],
      "metadata": {
        "colab": {
          "base_uri": "https://localhost:8080/",
          "height": 211
        },
        "id": "n_KoYRhLdaya",
        "outputId": "3696b814-5367-4dee-f858-8d507804ef09"
      },
      "execution_count": 6,
      "outputs": [
        {
          "output_type": "error",
          "ename": "NameError",
          "evalue": "name 'evaluation_code' is not defined",
          "traceback": [
            "\u001b[0;31m---------------------------------------------------------------------------\u001b[0m",
            "\u001b[0;31mNameError\u001b[0m                                 Traceback (most recent call last)",
            "\u001b[0;32m<ipython-input-6-6954ced8c0d7>\u001b[0m in \u001b[0;36m<cell line: 0>\u001b[0;34m()\u001b[0m\n\u001b[1;32m      3\u001b[0m \u001b[0;31m# Append markdown explanation and evaluation code cell properly\u001b[0m\u001b[0;34m\u001b[0m\u001b[0;34m\u001b[0m\u001b[0m\n\u001b[1;32m      4\u001b[0m \u001b[0mnotebook\u001b[0m\u001b[0;34m.\u001b[0m\u001b[0mcells\u001b[0m\u001b[0;34m.\u001b[0m\u001b[0mappend\u001b[0m\u001b[0;34m(\u001b[0m\u001b[0mnew_markdown_cell\u001b[0m\u001b[0;34m(\u001b[0m\u001b[0;34m\"## Model Evaluation\\n\\nThe following metrics are used to assess the model's performance:\"\u001b[0m\u001b[0;34m)\u001b[0m\u001b[0;34m)\u001b[0m\u001b[0;34m\u001b[0m\u001b[0;34m\u001b[0m\u001b[0m\n\u001b[0;32m----> 5\u001b[0;31m \u001b[0mnotebook\u001b[0m\u001b[0;34m.\u001b[0m\u001b[0mcells\u001b[0m\u001b[0;34m.\u001b[0m\u001b[0mappend\u001b[0m\u001b[0;34m(\u001b[0m\u001b[0mnew_code_cell\u001b[0m\u001b[0;34m(\u001b[0m\u001b[0mevaluation_code\u001b[0m\u001b[0;34m)\u001b[0m\u001b[0;34m)\u001b[0m\u001b[0;34m\u001b[0m\u001b[0;34m\u001b[0m\u001b[0m\n\u001b[0m\u001b[1;32m      6\u001b[0m \u001b[0;34m\u001b[0m\u001b[0m\n\u001b[1;32m      7\u001b[0m \u001b[0;31m# Save the updated notebook\u001b[0m\u001b[0;34m\u001b[0m\u001b[0;34m\u001b[0m\u001b[0m\n",
            "\u001b[0;31mNameError\u001b[0m: name 'evaluation_code' is not defined"
          ]
        }
      ]
    }
  ]
}